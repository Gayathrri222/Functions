{
 "cells": [
  {
   "cell_type": "markdown",
   "id": "partial-argument",
   "metadata": {},
   "source": [
    "### Lambda function "
   ]
  },
  {
   "cell_type": "raw",
   "id": "exterior-bailey",
   "metadata": {},
   "source": [
    "Python lambda function is an anonymous function\n",
    "what is anonymous function ? \n",
    "without a function name is but we can write a logic "
   ]
  },
  {
   "cell_type": "raw",
   "id": "strategic-theater",
   "metadata": {},
   "source": [
    "syntax : lambda arguments  : expressions "
   ]
  },
  {
   "cell_type": "code",
   "execution_count": 1,
   "id": "accomplished-comparison",
   "metadata": {},
   "outputs": [
    {
     "name": "stdout",
     "output_type": "stream",
     "text": [
      "3\n"
     ]
    }
   ],
   "source": [
    "# normal technique \n",
    "\n",
    "a = 1\n",
    "b = 2\n",
    "\n",
    "print(a + b)"
   ]
  },
  {
   "cell_type": "code",
   "execution_count": 2,
   "id": "suited-telescope",
   "metadata": {},
   "outputs": [
    {
     "name": "stdout",
     "output_type": "stream",
     "text": [
      "the sum is =  3\n"
     ]
    }
   ],
   "source": [
    "### function \n",
    "\n",
    "def fun(x,y):\n",
    "    return x + y \n",
    "\n",
    "    \n",
    "    \n",
    "a = 1\n",
    "b = 2\n",
    "print(\"the sum is = \",fun(a,b))"
   ]
  },
  {
   "cell_type": "code",
   "execution_count": 3,
   "id": "indirect-gardening",
   "metadata": {},
   "outputs": [
    {
     "name": "stdout",
     "output_type": "stream",
     "text": [
      "the sum =  3\n"
     ]
    }
   ],
   "source": [
    "### lambda function \n",
    "\n",
    "a = 1\n",
    "b = 2\n",
    "\n",
    "c = lambda x , y : a + b\n",
    "\n",
    "print(\"the sum = \" , c(a,b))\n"
   ]
  },
  {
   "cell_type": "code",
   "execution_count": 4,
   "id": "banned-thong",
   "metadata": {},
   "outputs": [
    {
     "name": "stdout",
     "output_type": "stream",
     "text": [
      "the value is =  130\n"
     ]
    }
   ],
   "source": [
    "a = 30\n",
    "c = lambda x : a + 100\n",
    "print(\"the value is = \", c(a))"
   ]
  },
  {
   "cell_type": "code",
   "execution_count": 5,
   "id": "criminal-impression",
   "metadata": {},
   "outputs": [
    {
     "name": "stdout",
     "output_type": "stream",
     "text": [
      "Enter a number = 5\n",
      "5 * 1 = 5\n",
      "5 * 2 = 10\n",
      "5 * 3 = 15\n",
      "5 * 4 = 20\n",
      "5 * 5 = 25\n",
      "5 * 6 = 30\n",
      "5 * 7 = 35\n",
      "5 * 8 = 40\n",
      "5 * 9 = 45\n",
      "5 * 10 = 50\n"
     ]
    }
   ],
   "source": [
    "### print tables\n",
    "\n",
    "n = int(input(\"Enter a number = \"))\n",
    "for i in range(1,11):\n",
    "    print(n ,'*',i,'=',(n * i))\n"
   ]
  },
  {
   "cell_type": "code",
   "execution_count": 6,
   "id": "pleasant-shelf",
   "metadata": {},
   "outputs": [
    {
     "name": "stdout",
     "output_type": "stream",
     "text": [
      "Enter a number = 8\n",
      "8 * 1 = 8\n",
      "8 * 2 = 16\n",
      "8 * 3 = 24\n",
      "8 * 4 = 32\n",
      "8 * 5 = 40\n",
      "8 * 6 = 48\n",
      "8 * 7 = 56\n",
      "8 * 8 = 64\n",
      "8 * 9 = 72\n",
      "8 * 10 = 80\n"
     ]
    }
   ],
   "source": [
    "#### table with lambda function \n",
    "n = int(input(\"Enter a number = \"))\n",
    "c = lambda x , y : n * i \n",
    "for i in range(1,11):\n",
    "    print(n ,'*',i,'=', c(n,i))\n",
    "#print(c)"
   ]
  },
  {
   "cell_type": "markdown",
   "id": "placed-tonight",
   "metadata": {},
   "source": [
    "### Map Function "
   ]
  },
  {
   "cell_type": "raw",
   "id": "short-maker",
   "metadata": {},
   "source": [
    "map function can execute the values with iterations without writing a logic "
   ]
  },
  {
   "cell_type": "raw",
   "id": "prospective-ancient",
   "metadata": {},
   "source": [
    "syntax (function , iterables )"
   ]
  },
  {
   "cell_type": "code",
   "execution_count": 7,
   "id": "middle-cornwall",
   "metadata": {},
   "outputs": [
    {
     "name": "stdout",
     "output_type": "stream",
     "text": [
      "['the number 1 is odd', 'The Number 2 is even', 'the number 3 is odd', 'The Number 4 is even', 'the number 5 is odd', 'The Number 6 is even', 'the number 7 is odd', 'The Number 8 is even', 'the number 9 is odd', 'The Number 10 is even']\n"
     ]
    }
   ],
   "source": [
    "# function\n",
    "\n",
    "def fun(b):\n",
    "    if b % 2 == 0:\n",
    "        return \"The Number {} is even\".format(b)\n",
    "    else:\n",
    "        return \"the number {} is odd\".format(b)\n",
    "    \n",
    "    \n",
    "    \n",
    "\n",
    "    \n",
    "a = [1,2,3,4,5,6,7,8,9,10]\n",
    "c = []\n",
    "for i in a:\n",
    "    sol = fun(i)\n",
    "    c.append(sol)\n",
    "#print(sol)\n",
    "print(c)"
   ]
  },
  {
   "cell_type": "code",
   "execution_count": 8,
   "id": "noticed-performance",
   "metadata": {},
   "outputs": [
    {
     "name": "stdout",
     "output_type": "stream",
     "text": [
      "['the number 1 is odd', 'The Number 2 is even', 'the number 3 is odd', 'The Number 4 is even', 'the number 5 is odd', 'The Number 6 is even', 'the number 7 is odd', 'The Number 8 is even', 'the number 9 is odd', 'The Number 10 is even']\n"
     ]
    }
   ],
   "source": [
    "### map \n",
    "def fun(b):\n",
    "    if b % 2 == 0:\n",
    "        return \"The Number {} is even\".format(b)\n",
    "    else:\n",
    "        return \"the number {} is odd\".format(b)\n",
    "    \n",
    "a = [1,2,3,4,5,6,7,8,9,10]\n",
    "n = map(fun , a)\n",
    "print(list(n))"
   ]
  },
  {
   "cell_type": "code",
   "execution_count": 9,
   "id": "stuffed-reset",
   "metadata": {},
   "outputs": [
    {
     "name": "stdout",
     "output_type": "stream",
     "text": [
      "1\n",
      "4\n",
      "9\n",
      "16\n"
     ]
    }
   ],
   "source": [
    "def square(b):\n",
    "    return b * b\n",
    "\n",
    "a = [1,2,3,4]\n",
    "for i in a:\n",
    "    sol = square(i)\n",
    "    print(sol)"
   ]
  },
  {
   "cell_type": "code",
   "execution_count": 10,
   "id": "posted-bangkok",
   "metadata": {},
   "outputs": [
    {
     "name": "stdout",
     "output_type": "stream",
     "text": [
      "[1, 4, 9, 16]\n"
     ]
    }
   ],
   "source": [
    "def square(b):\n",
    "    return b * b\n",
    "    \n",
    "a = [1,2,3,4]\n",
    "n = list(map(square , a))\n",
    "print(n)\n"
   ]
  },
  {
   "cell_type": "code",
   "execution_count": 11,
   "id": "solved-cleaner",
   "metadata": {},
   "outputs": [
    {
     "name": "stdout",
     "output_type": "stream",
     "text": [
      "[1, 4, 9, 16]\n"
     ]
    }
   ],
   "source": [
    "def square(b):\n",
    "    return b * b\n",
    "    \n",
    "#a = [1,2,3,4]\n",
    "n = list(map(square , (1,2,3,4)))\n",
    "print(n)\n"
   ]
  },
  {
   "cell_type": "markdown",
   "id": "documented-orientation",
   "metadata": {},
   "source": [
    "### map and lambda "
   ]
  },
  {
   "cell_type": "code",
   "execution_count": 12,
   "id": "empirical-affect",
   "metadata": {},
   "outputs": [
    {
     "name": "stdout",
     "output_type": "stream",
     "text": [
      "[11, 12, 13, 14]\n"
     ]
    }
   ],
   "source": [
    "a = [1,2,3,4]\n",
    "n = list(map(lambda x : x + 10, a))\n",
    "print(n)"
   ]
  },
  {
   "cell_type": "code",
   "execution_count": 13,
   "id": "located-antigua",
   "metadata": {},
   "outputs": [
    {
     "name": "stdout",
     "output_type": "stream",
     "text": [
      "[11, 13, 15, 17]\n"
     ]
    }
   ],
   "source": [
    "a = [1,2,3,4]\n",
    "b = [10,11,12,13]\n",
    "\n",
    "n = list(map(lambda x , y : x + y , a , b))\n",
    "print(n)"
   ]
  },
  {
   "cell_type": "markdown",
   "id": "disabled-moldova",
   "metadata": {},
   "source": [
    "### Filter function"
   ]
  },
  {
   "cell_type": "raw",
   "id": "minute-superior",
   "metadata": {},
   "source": [
    "creates an output list , tuple which contains values for which th function is true "
   ]
  },
  {
   "cell_type": "code",
   "execution_count": 14,
   "id": "respective-instruction",
   "metadata": {},
   "outputs": [
    {
     "name": "stdout",
     "output_type": "stream",
     "text": [
      "2\n",
      "3\n",
      "4\n"
     ]
    }
   ],
   "source": [
    "#  functions \n",
    "def kamal(b):\n",
    "    for i in b:\n",
    "        if i >= 2:\n",
    "            print(i)\n",
    "    \n",
    "a = [1,2,3,4]\n",
    "kamal(a)"
   ]
  },
  {
   "cell_type": "code",
   "execution_count": 15,
   "id": "peaceful-repeat",
   "metadata": {},
   "outputs": [
    {
     "name": "stdout",
     "output_type": "stream",
     "text": [
      "[None, 2, 3, 4]\n"
     ]
    }
   ],
   "source": [
    "# map function \n",
    "def kamal(b):\n",
    "        if b >= 2:\n",
    "            return b\n",
    "    \n",
    "a = [1,2,3,4]\n",
    "n = list(map(kamal , a))\n",
    "print(n)"
   ]
  },
  {
   "cell_type": "code",
   "execution_count": 16,
   "id": "active-doubt",
   "metadata": {},
   "outputs": [
    {
     "name": "stdout",
     "output_type": "stream",
     "text": [
      "[2, 3, 4]\n"
     ]
    }
   ],
   "source": [
    "## filter \n",
    "def kamal(b):\n",
    "        if b >= 2:\n",
    "            return b\n",
    "    \n",
    "a = [1,2,3,4]\n",
    "n = list(filter(kamal , a))\n",
    "print(n)"
   ]
  },
  {
   "cell_type": "code",
   "execution_count": 17,
   "id": "occupied-enlargement",
   "metadata": {},
   "outputs": [
    {
     "name": "stdout",
     "output_type": "stream",
     "text": [
      "[2, 4, 6, 8, 10]\n"
     ]
    }
   ],
   "source": [
    "a = list(filter(lambda x : x % 2  == 0 , [1,2,3,4,5,6,7,8,9,10]))\n",
    "print(a)\n",
    "         "
   ]
  },
  {
   "cell_type": "markdown",
   "id": "furnished-sheriff",
   "metadata": {},
   "source": [
    "### Reduce function  "
   ]
  },
  {
   "cell_type": "code",
   "execution_count": 18,
   "id": "herbal-distinction",
   "metadata": {},
   "outputs": [],
   "source": [
    "from functools import reduce"
   ]
  },
  {
   "cell_type": "code",
   "execution_count": 19,
   "id": "original-cartoon",
   "metadata": {},
   "outputs": [
    {
     "name": "stdout",
     "output_type": "stream",
     "text": [
      "21\n"
     ]
    }
   ],
   "source": [
    "a = reduce(lambda x , y : x + y , [1,2,3,4,5,6])\n",
    "print(a)"
   ]
  },
  {
   "cell_type": "markdown",
   "id": "surprising-framing",
   "metadata": {},
   "source": [
    "### Filter with map "
   ]
  },
  {
   "cell_type": "code",
   "execution_count": 20,
   "id": "extended-broadcasting",
   "metadata": {},
   "outputs": [
    {
     "name": "stdout",
     "output_type": "stream",
     "text": [
      "[6]\n"
     ]
    }
   ],
   "source": [
    "a = [1,2,3]\n",
    "b = list(map(lambda x : x + 3 , filter(lambda x : x>2 , a)))\n",
    "print(b)"
   ]
  },
  {
   "cell_type": "markdown",
   "id": "indoor-quest",
   "metadata": {},
   "source": [
    "### Map with filter "
   ]
  },
  {
   "cell_type": "code",
   "execution_count": 21,
   "id": "nonprofit-bridal",
   "metadata": {},
   "outputs": [
    {
     "name": "stdout",
     "output_type": "stream",
     "text": [
      "[10, 12, 14]\n"
     ]
    }
   ],
   "source": [
    "a = [8,9,10,11,12]\n",
    "b = list(filter(lambda x : x%2 == 0 , map(lambda x : x + 2 , a)))\n",
    "print(b)"
   ]
  },
  {
   "cell_type": "markdown",
   "id": "backed-mission",
   "metadata": {},
   "source": [
    "### Map and Filter with reduce "
   ]
  },
  {
   "cell_type": "code",
   "execution_count": 22,
   "id": "numerous-strip",
   "metadata": {},
   "outputs": [
    {
     "name": "stdout",
     "output_type": "stream",
     "text": [
      "10\n"
     ]
    }
   ],
   "source": [
    "a = reduce(lambda x , y : x + y , map(lambda x : x + 2 , filter(lambda x : x%2 == 0 , [1,2,3,4,5])))\n",
    "print(a)"
   ]
  },
  {
   "cell_type": "code",
   "execution_count": null,
   "id": "comic-adventure",
   "metadata": {},
   "outputs": [],
   "source": []
  }
 ],
 "metadata": {
  "kernelspec": {
   "display_name": "Python 3 (ipykernel)",
   "language": "python",
   "name": "python3"
  },
  "language_info": {
   "codemirror_mode": {
    "name": "ipython",
    "version": 3
   },
   "file_extension": ".py",
   "mimetype": "text/x-python",
   "name": "python",
   "nbconvert_exporter": "python",
   "pygments_lexer": "ipython3",
   "version": "3.9.7"
  }
 },
 "nbformat": 4,
 "nbformat_minor": 5
}
